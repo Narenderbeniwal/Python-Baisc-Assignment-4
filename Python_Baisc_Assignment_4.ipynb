{
  "nbformat": 4,
  "nbformat_minor": 0,
  "metadata": {
    "colab": {
      "name": "Python Baisc Assignment 4.ipynb",
      "provenance": [],
      "collapsed_sections": []
    },
    "kernelspec": {
      "name": "python3",
      "display_name": "Python 3"
    },
    "language_info": {
      "name": "python"
    }
  },
  "cells": [
    {
      "cell_type": "code",
      "metadata": {
        "id": "xD1DFbvX50E_"
      },
      "source": [
        ""
      ],
      "execution_count": null,
      "outputs": []
    },
    {
      "cell_type": "markdown",
      "metadata": {
        "id": "Y5vH8qBg53K2"
      },
      "source": [
        "**1. What exactly is []?**\n",
        "\n",
        "**Soloution**:  The empty list value, which is a list value that contains no items. This is similar to how '' is the empty string value."
      ]
    },
    {
      "cell_type": "markdown",
      "metadata": {
        "id": "NvKmicJC7Dfd"
      },
      "source": [
        "Q 2. In a list of values stored in a variable called spam, how would you assign the value 'hello' as the third value? (Assume [2, 4, 6, 8, 10] are in spam.) Let's pretend the spam includes the list ['a', 'b', 'c', 'd'] for the next three queries.\n",
        "\n",
        "**Solution**: spam = [2,4,6,8,10]\n",
        "\n",
        "              spam[2] = \"hello\""
      ]
    },
    {
      "cell_type": "code",
      "metadata": {
        "id": "CT_7XxyP9joz"
      },
      "source": [
        "spam  = ['a', 'b', 'c', 'd'] "
      ],
      "execution_count": 1,
      "outputs": []
    },
    {
      "cell_type": "code",
      "metadata": {
        "colab": {
          "base_uri": "https://localhost:8080/",
          "height": 35
        },
        "id": "tyUv0q7q6j7Y",
        "outputId": "ff548d5a-d563-4157-d906-704efcbd559b"
      },
      "source": [
        "## Q .3 What is the value of spam[int(int('3' * 2) / 11)]?\n",
        "spam[int(int('3' * 2) / 11)]\n",
        "# Solition: d"
      ],
      "execution_count": 2,
      "outputs": [
        {
          "output_type": "execute_result",
          "data": {
            "application/vnd.google.colaboratory.intrinsic+json": {
              "type": "string"
            },
            "text/plain": [
              "'d'"
            ]
          },
          "metadata": {
            "tags": []
          },
          "execution_count": 2
        }
      ]
    },
    {
      "cell_type": "code",
      "metadata": {
        "colab": {
          "base_uri": "https://localhost:8080/",
          "height": 35
        },
        "id": "DtJdnREs7rJX",
        "outputId": "8634fdcd-8b93-4313-a053-97d22d92f42d"
      },
      "source": [
        "## Q4. What is the value of spam[-1]?\n",
        "spam[-1]\n",
        "# Solution:d"
      ],
      "execution_count": 3,
      "outputs": [
        {
          "output_type": "execute_result",
          "data": {
            "application/vnd.google.colaboratory.intrinsic+json": {
              "type": "string"
            },
            "text/plain": [
              "'d'"
            ]
          },
          "metadata": {
            "tags": []
          },
          "execution_count": 3
        }
      ]
    },
    {
      "cell_type": "code",
      "metadata": {
        "colab": {
          "base_uri": "https://localhost:8080/"
        },
        "id": "CdSbDZEF7sVM",
        "outputId": "9d56ab28-d3bf-4fe3-c7fd-b65a8aae7ab5"
      },
      "source": [
        "## 5. What is the value of spam[:2]?\n",
        "spam[:2]\n",
        "# Solution: ['a', 'b']\n"
      ],
      "execution_count": 4,
      "outputs": [
        {
          "output_type": "execute_result",
          "data": {
            "text/plain": [
              "['a', 'b']"
            ]
          },
          "metadata": {
            "tags": []
          },
          "execution_count": 4
        }
      ]
    },
    {
      "cell_type": "code",
      "metadata": {
        "id": "UH8fsZNK91Zc"
      },
      "source": [
        "bacon = [3.14, 'cat', 11, 'cat', True]"
      ],
      "execution_count": 5,
      "outputs": []
    },
    {
      "cell_type": "code",
      "metadata": {
        "colab": {
          "base_uri": "https://localhost:8080/"
        },
        "id": "6u-DZADU-MGR",
        "outputId": "fafc3935-2432-4c50-ec47-f0ef4c08d37f"
      },
      "source": [
        "## Q. 6. What is the value of bacon.index('cat')?\n",
        "bacon.index('cat')\n",
        "# Solution: 1"
      ],
      "execution_count": 6,
      "outputs": [
        {
          "output_type": "execute_result",
          "data": {
            "text/plain": [
              "1"
            ]
          },
          "metadata": {
            "tags": []
          },
          "execution_count": 6
        }
      ]
    },
    {
      "cell_type": "code",
      "metadata": {
        "colab": {
          "base_uri": "https://localhost:8080/"
        },
        "id": "dB4l7PwC-dqB",
        "outputId": "71238315-c7c4-4f2a-cbdb-3295df5d099a"
      },
      "source": [
        "## Q 7. How does bacon.append(99) change the look of the list value in bacon?\n",
        "bacon.append(99)\n",
        "bacon\n",
        "## Solution: [3.14, 'cat', 11, 'cat', True, 99]"
      ],
      "execution_count": 7,
      "outputs": [
        {
          "output_type": "execute_result",
          "data": {
            "text/plain": [
              "[3.14, 'cat', 11, 'cat', True, 99]"
            ]
          },
          "metadata": {
            "tags": []
          },
          "execution_count": 7
        }
      ]
    },
    {
      "cell_type": "code",
      "metadata": {
        "colab": {
          "base_uri": "https://localhost:8080/"
        },
        "id": "2J0crahE-3Db",
        "outputId": "50603593-d773-4416-dc4e-9d81fd2cd5e0"
      },
      "source": [
        "## Q 8. How does bacon.remove('cat') change the look of the list in bacon?\n",
        "bacon.remove('cat')\n",
        "bacon\n",
        "## Solution: [3.14, 11, True, 99]"
      ],
      "execution_count": 8,
      "outputs": [
        {
          "output_type": "execute_result",
          "data": {
            "text/plain": [
              "[3.14, 11, 'cat', True, 99]"
            ]
          },
          "metadata": {
            "tags": []
          },
          "execution_count": 8
        }
      ]
    },
    {
      "cell_type": "code",
      "metadata": {
        "colab": {
          "base_uri": "https://localhost:8080/"
        },
        "id": "PevVKjYS_WLP",
        "outputId": "29ef6698-716c-4404-b6cb-9fdd7895fe8a"
      },
      "source": [
        "## Q.9 What are the list concatenation and list replication operators?\n",
        "## Solution : The operator for list concatenation is +, while the operator for replication is *. (This is the same as for strings.)\n",
        "print([23,3,4,5,6,7]+[33,4,5,6,7,89])\n",
        "[23,4,5,6,7,8]*3"
      ],
      "execution_count": 9,
      "outputs": [
        {
          "output_type": "stream",
          "text": [
            "[23, 3, 4, 5, 6, 7, 33, 4, 5, 6, 7, 89]\n"
          ],
          "name": "stdout"
        },
        {
          "output_type": "execute_result",
          "data": {
            "text/plain": [
              "[23, 4, 5, 6, 7, 8, 23, 4, 5, 6, 7, 8, 23, 4, 5, 6, 7, 8]"
            ]
          },
          "metadata": {
            "tags": []
          },
          "execution_count": 9
        }
      ]
    },
    {
      "cell_type": "code",
      "metadata": {
        "colab": {
          "base_uri": "https://localhost:8080/"
        },
        "id": "QQYSZM5p_7gf",
        "outputId": "37bb1d9a-0282-46ca-fcce-30f1d9d8348f"
      },
      "source": [
        "## Q 10. What is difference between the list methods append() and insert()?\n",
        "## Solution: While append() will add values only to the end of a list, insert() can add them anywhere in the list.\n",
        "list = [23,4,5,7,8,90]\n",
        "list.append(\"Narender\")\n",
        "print(list)\n",
        "list.insert(3,\"beniwal\")\n",
        "print(list)\n",
        "\n"
      ],
      "execution_count": 10,
      "outputs": [
        {
          "output_type": "stream",
          "text": [
            "[23, 4, 5, 7, 8, 90, 'Narender']\n",
            "[23, 4, 5, 'beniwal', 7, 8, 90, 'Narender']\n"
          ],
          "name": "stdout"
        }
      ]
    },
    {
      "cell_type": "code",
      "metadata": {
        "colab": {
          "base_uri": "https://localhost:8080/"
        },
        "id": "gSylzf23A8hw",
        "outputId": "3dd26058-dfea-4c89-b1d6-b0df6d4907ff"
      },
      "source": [
        "## Q.11 What are the two methods for removing items from a list?\n",
        "## Solution: The methods are remove(), pop() and clear(). It helps to remove the very first given element matching from the list. \n",
        "# The pop() method removes an element from the list based on the index given. The clear() method will remove all the elements present in the list.\n",
        "list.pop(2)\n",
        "list"
      ],
      "execution_count": 11,
      "outputs": [
        {
          "output_type": "execute_result",
          "data": {
            "text/plain": [
              "[23, 4, 'beniwal', 7, 8, 90, 'Narender']"
            ]
          },
          "metadata": {
            "tags": []
          },
          "execution_count": 11
        }
      ]
    },
    {
      "cell_type": "code",
      "metadata": {
        "colab": {
          "base_uri": "https://localhost:8080/"
        },
        "id": "F6pBfFpaFwOr",
        "outputId": "666e70e0-1df4-4391-f8ae-a2bd5ad6b472"
      },
      "source": [
        "## Q 12. Describe how list values and string values are identical.\n",
        "## Solution : Both lists and strings can be passed to len(), have indexes and slices, be used in for loops, be concatenated or replicated, and be used with the in and not in operators.\n",
        "len(list)\n",
        "len(\"Narendeer\")\n"
      ],
      "execution_count": 12,
      "outputs": [
        {
          "output_type": "execute_result",
          "data": {
            "text/plain": [
              "9"
            ]
          },
          "metadata": {
            "tags": []
          },
          "execution_count": 12
        }
      ]
    },
    {
      "cell_type": "code",
      "metadata": {
        "id": "IAFfCYJPHCjf"
      },
      "source": [
        "## Q. 13. What's the difference between tuples and lists?\n",
        "## Solution: Lists are mutable; they can have values added, removed, or changed. \n",
        "#. Tuples are immutable; they cannot be changed at all. \n",
        "#  Also, tuples are written using parentheses, ( and ), while lists use the square brackets, [ and ]."
      ],
      "execution_count": 13,
      "outputs": []
    },
    {
      "cell_type": "code",
      "metadata": {
        "id": "X5AD2Wh9H8kl"
      },
      "source": [
        "## Q. 14. How do you type a tuple value that only contains the integer 42?\n",
        "# Solution: (42,) (The trailing comma is mandatory.)\n",
        "\n"
      ],
      "execution_count": 14,
      "outputs": []
    },
    {
      "cell_type": "code",
      "metadata": {
        "colab": {
          "base_uri": "https://localhost:8080/"
        },
        "id": "c3JREjWUIPYJ",
        "outputId": "afb51f2d-ebc5-4fbf-f8b6-03caacea4c66"
      },
      "source": [
        "## Q. 15. How do you get a list value's tuple form? How do you get a tuple value's list form?\n",
        "# Solution: The tuple() and list() functions, respectively\n",
        "print(tuple(list))\n",
        "\n"
      ],
      "execution_count": 15,
      "outputs": [
        {
          "output_type": "stream",
          "text": [
            "(23, 4, 'beniwal', 7, 8, 90, 'Narender')\n"
          ],
          "name": "stdout"
        }
      ]
    },
    {
      "cell_type": "code",
      "metadata": {
        "id": "f-BiDPFVJF6p"
      },
      "source": [
        "## Q 16. Variables that \"contain\" list values are not necessarily lists themselves. Instead, what do they contain?\n",
        "## Solution: They contain references to list values.\n",
        "\n",
        "\n"
      ],
      "execution_count": 16,
      "outputs": []
    },
    {
      "cell_type": "code",
      "metadata": {
        "id": "Dlur--GpJk1g"
      },
      "source": [
        "## Q 17. How do you distinguish between copy.copy() and copy.deepcopy()?\n",
        "## The copy.copy() function will do a shallow copy of a list, while the copy.deepcopy() function will do a deep copy of a list. \n",
        "# That is, only copy.deepcopy() will duplicate any lists inside the list.\n",
        "\n"
      ],
      "execution_count": 17,
      "outputs": []
    },
    {
      "cell_type": "code",
      "metadata": {
        "id": "QnIDuAPBJ7n9"
      },
      "source": [
        ""
      ],
      "execution_count": 17,
      "outputs": []
    }
  ]
}